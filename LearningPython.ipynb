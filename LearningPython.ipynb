{
 "cells": [
  {
   "cell_type": "markdown",
   "metadata": {},
   "source": [
    "# Table of Contents\n",
    "1. [Learn Python 3 the Hard Way](#LP3THW)\n",
    "2. [Code Wars](#Code_Wars)"
   ]
  },
  {
   "cell_type": "markdown",
   "metadata": {},
   "source": [
    "# LP3THW\n",
    "This book walks us through a bunch of tedious exercises"
   ]
  },
  {
   "cell_type": "code",
   "execution_count": 35,
   "metadata": {},
   "outputs": [
    {
     "name": "stdout",
     "output_type": "stream",
     "text": [
      "Hello # World!\n",
      "Hello Again\n",
      "I'd much rather 'not'.\n",
      "I \"said\" do not touch this\n"
     ]
    }
   ],
   "source": [
    "# Exercise 1,2 : Learn how to print + comments\n",
    "print(\"Hello # World!\") # The # is in a string.\n",
    "print(\"Hello Again\")\n",
    "print(\"I'd much rather 'not'.\")\n",
    "print('I \"said\" do not touch this')"
   ]
  },
  {
   "cell_type": "code",
   "execution_count": 37,
   "metadata": {},
   "outputs": [
    {
     "name": "stdout",
     "output_type": "stream",
     "text": [
      "I will now count my chickens:\n",
      "Hens 30\n",
      "Roosters 97\n",
      "Now I will count the eggs:\n",
      "6.75\n",
      "Is it true that 3+2<5-7\n",
      "False\n",
      "What is 3+2? 5\n",
      "What is 5-7? -2\n",
      "Oh, that's why it's false.\n",
      "How about some more.\n",
      "Is it greater? True\n",
      "Is it greater or equal? True\n",
      "Is it less or equal? False\n"
     ]
    }
   ],
   "source": [
    "# Exercise 3: Numbers and Math\n",
    "print(\"I will now count my chickens:\")\n",
    "# To print the calculation after the text, you need the comma and make sure the calculation is in the parentheses.\n",
    "# Made the calc an integer because Python3 makes it a float.\n",
    "# The int function rounds floats down.\n",
    "print(\"Hens\", int(25+30/6))\n",
    "#The % symbol gives the remainder and operates after multiplication and division but before subtraction/addition.\n",
    "print(\"Roosters\", int(100-25*3%4))\n",
    "print(\"Now I will count the eggs:\")\n",
    "#Python2 says this calc equals 7... \n",
    "#This is because the book thinks it should be an integer but Python3 makes dividends a floating number.\n",
    "print(3 + 2 + 1 - 5 + 4 % 2 - 1 / 4 + 6)\n",
    "print(\"Is it true that 3+2<5-7\")\n",
    "# This is a comparison that will yield a true or false answer\n",
    "print(3+2<5-7)\n",
    "print(\"What is 3+2?\", 3+2)\n",
    "print(\"What is 5-7?\", 5-7)\n",
    "print(\"Oh, that's why it's false.\")\n",
    "print(\"How about some more.\")\n",
    "print(\"Is it greater?\", 5> -2)\n",
    "print(\"Is it greater or equal?\", 5 >= -2)\n",
    "print(\"Is it less or equal?\", 5<= -2)\n"
   ]
  },
  {
   "cell_type": "code",
   "execution_count": 74,
   "metadata": {},
   "outputs": [
    {
     "name": "stdout",
     "output_type": "stream",
     "text": [
      "Ther are 100 cars available.\n",
      "There are only 30 drivers available.\n",
      " There will be 70 empty cars today.\n",
      "We can transport 120.0 people today.\n",
      "We have 90 to carpool today.\n",
      "We need to put about 3 in each car.\n",
      "Let's talk about Zed A. Shaw.\n",
      "He's 74 inches tall.\n",
      "He's 1.801000e+02 pounds heavy.\n",
      "Actually that's not too heavy.\n",
      "He's got Blue eyes and Brown hair.\n",
      "His teeth are usually White depending on the coffee.\n",
      "If I add 35, 74, and 180 I get 289.\n"
     ]
    }
   ],
   "source": [
    "# Exercise 4: Variables and Names (with all variables being numbers)\n",
    "cars = 100\n",
    "space_in_a_car = 4.0\n",
    "# This variable is a float, so the results of math operations will also be float unless changed to an integer.\n",
    "drivers = 30\n",
    "passengers = 90\n",
    "cars_not_driven = cars - drivers\n",
    "cars_driven = drivers\n",
    "carpool_capacity = cars_driven * space_in_a_car\n",
    "average_passengers_per_car = int(passengers / cars_driven)\n",
    "\n",
    "print(\"Ther are\", cars, \"cars available.\")\n",
    "print(\"There are only\", drivers, \"drivers available.\")\n",
    "print(\" There will be\", cars_not_driven, \"empty cars today.\")\n",
    "print(\"We can transport\", carpool_capacity, \"people today.\")\n",
    "print(\"We have\", passengers, \"to carpool today.\")\n",
    "print(\"We need to put about\", average_passengers_per_car, \"in each car.\")\n",
    "\n",
    "# Exercise 5: Variables also being strings and placeholders\n",
    "name = 'Zed A. Shaw'\n",
    "age = 35 # This is not a lie.\n",
    "height = 74 # inches\n",
    "weight = 180.1 # lbs\n",
    "eyes = 'Blue'\n",
    "teeth = 'White'\n",
    "hair = 'Brown'\n",
    "\n",
    "# The '%' symbol functions as a placeholder for certain inputs. It can be a string, boolean, list, number, etc. Certain math operations are performed first and then the conversion of the object is performed.\n",
    "print(\"Let's talk about %s.\" % name)\n",
    "# %s converts any object into a string (after certain math operations) and will maintain the format; it uses str()\n",
    "# %r converts any object exactly as it is presented in variable (including quotation marks); it uses repr()\n",
    "print(\"He's %d inches tall.\" % height)\n",
    "# %d or %i turns a decimal into an integer. Remember, it automatically rounds down.\n",
    "print(\"He's %e pounds heavy.\" % weight)\n",
    "# %f turns your value into a floating number; \n",
    "# %e turns your value into a floating number with exponential format; \n",
    "# %g does %e if exponent is > 4 and does %f otherwise\n",
    "print(\"Actually that's not too heavy.\")\n",
    "print(\"He's got %s eyes and %s hair.\" % (eyes, hair))\n",
    "print(\"His teeth are usually %s depending on the coffee.\" % teeth)\n",
    "# This line is tricky, try to get it exactly right\n",
    "print(\"If I add %d, %d, and %d I get %d.\" % (age, height, weight, age + height + weight))"
   ]
  },
  {
   "cell_type": "markdown",
   "metadata": {},
   "source": []
  },
  {
   "cell_type": "markdown",
   "metadata": {},
   "source": [
    "\n",
    "`\n",
    "\n"
   ]
  },
  {
   "cell_type": "markdown",
   "metadata": {},
   "source": [
    "\n",
    "`\n",
    "\n"
   ]
  },
  {
   "cell_type": "markdown",
   "metadata": {},
   "source": [
    "\n",
    "`\n",
    "\n"
   ]
  },
  {
   "cell_type": "markdown",
   "metadata": {},
   "source": [
    "\n",
    "\n",
    "\n",
    "vv\n",
    "`\n",
    "\n"
   ]
  },
  {
   "cell_type": "markdown",
   "metadata": {},
   "source": [
    "\n",
    "\n",
    "\n",
    "\n",
    "`\n",
    "\n"
   ]
  },
  {
   "cell_type": "markdown",
   "metadata": {},
   "source": [
    "# Code_Wars"
   ]
  },
  {
   "cell_type": "code",
   "execution_count": null,
   "metadata": {},
   "outputs": [],
   "source": []
  }
 ],
 "metadata": {
  "kernelspec": {
   "display_name": "Python 3",
   "language": "python",
   "name": "python3"
  },
  "language_info": {
   "codemirror_mode": {
    "name": "ipython",
    "version": 3
   },
   "file_extension": ".py",
   "mimetype": "text/x-python",
   "name": "python",
   "nbconvert_exporter": "python",
   "pygments_lexer": "ipython3",
   "version": "3.7.3"
  }
 },
 "nbformat": 4,
 "nbformat_minor": 2
}
